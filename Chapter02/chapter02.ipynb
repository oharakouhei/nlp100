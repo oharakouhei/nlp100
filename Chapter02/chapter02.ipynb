{
 "cells": [
  {
   "cell_type": "markdown",
   "metadata": {},
   "source": [
    "# 第2章: UNIXコマンドの基礎\n",
    "hightemp.txtは，日本の最高気温の記録を「都道府県」「地点」「℃」「日」のタブ区切り形式で格納したファイルである．以下の処理を行うプログラムを作成し，hightemp.txtを入力ファイルとして実行せよ．さらに，同様の処理をUNIXコマンドでも実行し，プログラムの実行結果を確認せよ．"
   ]
  },
  {
   "cell_type": "markdown",
   "metadata": {},
   "source": [
    "## 10. 行数のカウント\n",
    "行数をカウントせよ．確認にはwcコマンドを用いよ．"
   ]
  },
  {
   "cell_type": "code",
   "execution_count": null,
   "metadata": {
    "collapsed": false
   },
   "outputs": [],
   "source": [
    "import sys\n",
    "\n",
    "filepath = \"source/hightemp.txt\"\n",
    "\n",
    "# ターミナルから $ python filename と実行する場合は　　f = open(argv[1])\n",
    "f = open(filepath)\n",
    "lines = f.readlines()\n",
    "print(len(lines))\n",
    "\n",
    "f.close()"
   ]
  },
  {
   "cell_type": "markdown",
   "metadata": {},
   "source": [
    "## 11. タブをスペースに置換\n",
    "タブ1文字につきスペース1文字に置換せよ．確認にはsedコマンド，trコマンド，もしくはexpandコマンドを用いよ．"
   ]
  },
  {
   "cell_type": "code",
   "execution_count": null,
   "metadata": {
    "collapsed": false
   },
   "outputs": [],
   "source": [
    "import sys\n",
    "filepath = \"source/hightemp.txt\"\n",
    "\n",
    "with open(filepath) as f:\n",
    "    str = f.read()\n",
    "\n",
    "print str.replace(\"\\t\", \" \"),"
   ]
  },
  {
   "cell_type": "markdown",
   "metadata": {},
   "source": [
    "## 12. 1列目をcol1.txtに，2列目をcol2.txtに保存\n",
    "各行の1列目だけを抜き出したものをcol1.txtに，2列目だけを抜き出したものをcol2.txtとしてファイルに保存せよ．確認にはcutコマンドを用いよ．"
   ]
  },
  {
   "cell_type": "code",
   "execution_count": null,
   "metadata": {
    "collapsed": false
   },
   "outputs": [],
   "source": [
    "import sys\n",
    "filepath = \"source/hightemp.txt\"\n",
    "\n",
    "def write_col(source_lines, colunm_number, filename):\n",
    "    col = []\n",
    "    for line in source_lines:\n",
    "        col.append(line.split()[colunm_number] + \"\\n\")\n",
    "    with open(filename, \"w\") as writer:\n",
    "        writer.writelines(col)\n",
    "\n",
    "\n",
    "with open(filepath) as f:\n",
    "    lines = f.readlines()\n",
    "\n",
    "# 実際に保存されると面倒なのでコメントアウト\n",
    "#write_col(lines, 0, \"col1.txt\")\n",
    "#write_col(lines, 1, \"col2.txt\")"
   ]
  },
  {
   "cell_type": "markdown",
   "metadata": {},
   "source": [
    "## 13. col1.txtとcol2.txtをマージ\n",
    "12で作ったcol1.txtとcol2.txtを結合し，元のファイルの1列目と2列目をタブ区切りで並べたテキストファイルを作成せよ．確認にはpasteコマンドを用いよ．"
   ]
  },
  {
   "cell_type": "code",
   "execution_count": null,
   "metadata": {
    "collapsed": false
   },
   "outputs": [],
   "source": [
    "# こういう書き方ができるのは強い\n",
    "with open(\"col1.txt\") as f1, open(\"col2.txt\") as f2:\n",
    "    lines1, lines2 = f1.readlines(), f2.readlines()\n",
    "\n",
    "with open(\"merge.txt\", \"w\") as writer:\n",
    "    for col1, col2 in zip(lines1, lines2):\n",
    "        # writer.write(\"\\t\".join([col1.rstrip(), col2])) # 見た目を良くするため、col1だけ末尾の改行を除去"
   ]
  },
  {
   "cell_type": "markdown",
   "metadata": {},
   "source": [
    "## 14. 先頭からN行を出力\n",
    "自然数Nをコマンドライン引数などの手段で受け取り，入力のうち先頭のN行だけを表示せよ．確認にはheadコマンドを用いよ．"
   ]
  },
  {
   "cell_type": "code",
   "execution_count": null,
   "metadata": {
    "collapsed": false
   },
   "outputs": [],
   "source": [
    "import sys\n",
    "filepath = \"source/hightemp.txt\"\n",
    "#N = int(sys.argv[2])\n",
    "N = 3\n",
    "\n",
    "with open(filepath) as f:\n",
    "    lines = f.readlines()\n",
    "\n",
    "for line in lines[:N]:\n",
    "    print line,"
   ]
  },
  {
   "cell_type": "markdown",
   "metadata": {},
   "source": [
    "## 15. 末尾のN行を出力\n",
    "自然数Nをコマンドライン引数などの手段で受け取り，入力のうち末尾のN行だけを表示せよ．確認にはtailコマンドを用いよ．"
   ]
  },
  {
   "cell_type": "code",
   "execution_count": null,
   "metadata": {
    "collapsed": false
   },
   "outputs": [],
   "source": [
    "import sys\n",
    "filepath = \"source/hightemp.txt\"\n",
    "#N = int(sys.argv[2])\n",
    "N = 3\n",
    "\n",
    "with open(filepath) as f:\n",
    "    lines = f.readlines()\n",
    "\n",
    "line_len = len(lines)\n",
    "for line in lines[line_len-N:]:\n",
    "    print line,"
   ]
  },
  {
   "cell_type": "markdown",
   "metadata": {},
   "source": [
    "## 16. ファイルをN分割する\n",
    "自然数Nをコマンドライン引数などの手段で受け取り，入力のファイルを行単位でN分割せよ．同様の処理をsplitコマンドで実現せよ．"
   ]
  },
  {
   "cell_type": "code",
   "execution_count": null,
   "metadata": {
    "collapsed": false
   },
   "outputs": [],
   "source": [
    "import sys\n",
    "filepath = \"source/hightemp.txt\"\n",
    "N = 4 # 分割する数\n",
    "\n",
    "def split_file(filepath, n):\n",
    "    with open(filepath) as f:\n",
    "        lines = f.readlines() # 大規模なファイルでないと仮定\n",
    "        \n",
    "\n",
    "    # 行数がn分割できなければエラーを出す\n",
    "    if 0 != len(lines) % n:\n",
    "        raise Exception(\"Undevided by n = %d\", n)\n",
    "    else:\n",
    "        nof_lines = len(lines) / n\n",
    "\n",
    "    for i in range(n):\n",
    "        print \"%d: \" % i\n",
    "        print \"\".join(lines[i*nof_lines:(i+1)*nof_lines])\n",
    "        # with open(targetfile.txt, \" w\") as w:\n",
    "        #    w.writelines(lines[i*nof_lines:(i+1)*nof_lines])\n",
    "        \n",
    "#  プログラムを直接呼び出した時、__name__は'__main__'となる\n",
    "if  __name__ == '__main__':\n",
    "    try:\n",
    "        split_file(filepath, N)\n",
    "    except Exception as err:\n",
    "        print(\"Error:\", err)"
   ]
  },
  {
   "cell_type": "markdown",
   "metadata": {},
   "source": [
    "## 17. １列目の文字列の異なり\n",
    "1列目の文字列の種類（異なる文字列の集合）を求めよ．確認にはsort, uniqコマンドを用いよ．"
   ]
  },
  {
   "cell_type": "code",
   "execution_count": null,
   "metadata": {
    "collapsed": false
   },
   "outputs": [],
   "source": [
    "import sys\n",
    "filepath = \"source/hightemp.txt\"\n",
    "prefectures = set()\n",
    "\n",
    "with open(filepath) as f:\n",
    "    line = f.readline()\n",
    "    while line:\n",
    "        prefectures.add(line.split()[0])\n",
    "        line = f.readline()\n",
    "\n",
    "for pref in prefectures:\n",
    "    print(pref)"
   ]
  },
  {
   "cell_type": "markdown",
   "metadata": {},
   "source": [
    "## 18. 各行を3コラム目の数値の降順にソート\n",
    "各行を3コラム目の数値の逆順で整列せよ（注意: 各行の内容は変更せずに並び替えよ）．確認にはsortコマンドを用いよ（この問題はコマンドで実行した時の結果と合わなくてもよい）．"
   ]
  },
  {
   "cell_type": "code",
   "execution_count": null,
   "metadata": {
    "collapsed": false
   },
   "outputs": [],
   "source": [
    "import sys\n",
    "filepath = \"source/hightemp.txt\"\n",
    "\n",
    "with open(filepath) as f:\n",
    "    lines = f.readlines()\n",
    "\n",
    "# sorted, keyオプションでソートする基準\n",
    "for line in sorted(lines, key=lambda x: x.split()[2], reverse=True):\n",
    "    print line,"
   ]
  },
  {
   "cell_type": "markdown",
   "metadata": {},
   "source": [
    "## 19. 各行の1コラム目の文字列の出現頻度を求め，出現頻度の高い順に並べる\n",
    "各行の1列目の文字列の出現頻度を求め，その高い順に並べて表示せよ．確認にはcut, uniq, sortコマンドを用いよ．"
   ]
  },
  {
   "cell_type": "code",
   "execution_count": null,
   "metadata": {
    "collapsed": false
   },
   "outputs": [],
   "source": [
    "import sys\n",
    "from collections import defaultdict\n",
    "filepath = \"source/hightemp.txt\"\n",
    "# dict の初期値を defaultdict で設定できる。dict[key] += 1 などが書ける\n",
    "prefectures = defaultdict(int)\n",
    "\n",
    "with open(filepath) as f:\n",
    "    line = f.readline()\n",
    "    while line:\n",
    "        prefectures[line.split()[0]] += 1\n",
    "        line = f.readline()\n",
    "\n",
    "for k, v in sorted(prefectures.items(), key=lambda x: x[1], reverse=True):\n",
    "    print \"%s: %d回\" % (k, v)"
   ]
  }
 ],
 "metadata": {
  "kernelspec": {
   "display_name": "Python 2",
   "language": "python",
   "name": "python2"
  },
  "language_info": {
   "codemirror_mode": {
    "name": "ipython",
    "version": 2
   },
   "file_extension": ".py",
   "mimetype": "text/x-python",
   "name": "python",
   "nbconvert_exporter": "python",
   "pygments_lexer": "ipython2",
   "version": "2.7.9"
  }
 },
 "nbformat": 4,
 "nbformat_minor": 0
}
