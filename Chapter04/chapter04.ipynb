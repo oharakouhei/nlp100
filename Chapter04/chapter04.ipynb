{
 "cells": [
  {
   "cell_type": "markdown",
   "metadata": {
    "collapsed": true
   },
   "source": [
    "# 第4章: 形態素解析\n",
    "\n",
    "夏目漱石の小説『吾輩は猫である』の文章（[neko.txt](http://www.cl.ecei.tohoku.ac.jp/nlp100/data/neko.txt)）をMeCabを使って形態素解析し，その結果をneko.txt.mecabというファイルに保存せよ．このファイルを用いて，以下の問に対応するプログラムを実装せよ．\n",
    "\n",
    "\n",
    "なお，問題37, 38, 39はmatplotlibもしくはGnuplotを用いるとよい．"
   ]
  },
  {
   "cell_type": "markdown",
   "metadata": {},
   "source": [
    "### mecabファイルの作成\n",
    "```\n",
    "$ mecab source/neko.txt >> source/neko.txt.mecab\n",
    "```\n",
    "により、neko.txt.mecabを作成した。"
   ]
  },
  {
   "cell_type": "markdown",
   "metadata": {},
   "source": [
    "## 30. 形態素解析結果の読み込み\n",
    "形態素解析結果（neko.txt.mecab）を読み込むプログラムを実装せよ．ただし，各形態素は表層形（surface），基本形（base），品詞（pos），品詞細分類1（pos1）をキーとするマッピング型に格納し，1文を形態素（マッピング型）のリストとして表現せよ．第4章の残りの問題では，ここで作ったプログラムを活用せよ．"
   ]
  },
  {
   "cell_type": "code",
   "execution_count": null,
   "metadata": {
    "collapsed": false
   },
   "outputs": [],
   "source": [
    "import pickle\n",
    "\n",
    "class Main(object):\n",
    "    \n",
    "    def __init__(self):\n",
    "        pass\n",
    "\n",
    "    def solve(self):\n",
    "        with open('source/neko.txt.mecab', 'r') as f:\n",
    "            morphologies = [] # 形態素\n",
    "            sentence = []\n",
    "            for line in f.readlines():\n",
    "                if line == 'EOS\\n':\n",
    "                    if len(sentence) > 0: # 文の中身が入っていれば\n",
    "                        morphologies.append(sentence)\n",
    "                        sentence = []\n",
    "                else:\n",
    "                    surface, result = line.split(\"\\t\") # surface（表層系）（実際に文中に現れた単語）とresult（その形態素解析結果）に分割\n",
    "                    results = result.split(',')\n",
    "                    sentence.append({'surface': surface, 'base': results[6], 'pos': results[0], 'pos1': results[1]})\n",
    "         \n",
    "        with open('source/neko.txt.mecab.pickle', 'wb') as w:\n",
    "                    pickle.dump(morphologies, w) \n",
    "        return None\n",
    "\n",
    "if __name__ == '__main__':\n",
    "    m = Main()\n",
    "    m.solve()"
   ]
  },
  {
   "cell_type": "markdown",
   "metadata": {},
   "source": [
    "### pickleファイル\n",
    "以下では、30. によって作成したpickleファイルを使用する"
   ]
  },
  {
   "cell_type": "markdown",
   "metadata": {},
   "source": [
    "## 31. 動詞\n",
    "動詞の表層形をすべて抽出せよ．"
   ]
  },
  {
   "cell_type": "code",
   "execution_count": null,
   "metadata": {
    "collapsed": false
   },
   "outputs": [],
   "source": [
    "import pickle\n",
    "\n",
    "with open('source/neko.txt.mecab.pickle', 'rb') as f:\n",
    "    morphologies = pickle.load(f)\n",
    "\n",
    "for sentence in morphologies:\n",
    "    for morphology in sentence:\n",
    "        if '動詞' == morphology['pos']:\n",
    "            print(morphology['surface'])"
   ]
  },
  {
   "cell_type": "markdown",
   "metadata": {},
   "source": [
    "## 32. 動詞の原形\n",
    "動詞の原形をすべて抽出せよ．"
   ]
  },
  {
   "cell_type": "code",
   "execution_count": null,
   "metadata": {
    "collapsed": false
   },
   "outputs": [],
   "source": [
    "import pickle\n",
    "\n",
    "with open('source/neko.txt.mecab.pickle', 'rb') as f:\n",
    "    morphologies = pickle.load(f)\n",
    "\n",
    "for sentence in morphologies:\n",
    "    for morphology in sentence:\n",
    "        if '動詞' == morphology['pos']:\n",
    "            print(morphology['base'])"
   ]
  },
  {
   "cell_type": "markdown",
   "metadata": {},
   "source": [
    "## 33. サ変名詞\n",
    "サ変接続の名詞をすべて抽出せよ．"
   ]
  },
  {
   "cell_type": "code",
   "execution_count": null,
   "metadata": {
    "collapsed": false
   },
   "outputs": [],
   "source": [
    "import pickle\n",
    "\n",
    "with open('source/neko.txt.mecab.pickle', 'rb') as f:\n",
    "    morphologies = pickle.load(f)\n",
    "\n",
    "for sentence in morphologies:\n",
    "    for morphology in sentence:\n",
    "        if '名詞' == morphology['pos'] and 'サ変接続' == morphology['pos1']:\n",
    "            print(morphology)"
   ]
  },
  {
   "cell_type": "markdown",
   "metadata": {},
   "source": [
    "## 34. 「AのB」\n",
    "2つの名詞が「の」で連結されている名詞句を抽出せよ．"
   ]
  },
  {
   "cell_type": "code",
   "execution_count": null,
   "metadata": {
    "collapsed": false
   },
   "outputs": [],
   "source": [
    "import pickle\n",
    "\n",
    "with open('source/neko.txt.mecab.pickle', 'rb') as f:\n",
    "    morphologies = pickle.load(f)\n",
    "\n",
    "for sentence in morphologies:\n",
    "    temp_noun_phrases = \"\"\n",
    "    for i, morphology in enumerate(sentence):\n",
    "        if i < 2:\n",
    "            continue\n",
    "        if '名詞' == sentence[i-2]['pos']:\n",
    "            if 'の' == sentence[i-1]['surface']:\n",
    "                if '名詞' == morphology['pos']:\n",
    "                    temp_noun_phrase = sentence[i-2]['surface'] + sentence[i-1]['surface'] + morphology['surface']\n",
    "                    print(temp_noun_phrase)"
   ]
  },
  {
   "cell_type": "markdown",
   "metadata": {},
   "source": [
    "## 35. 名詞の連接\n",
    "名詞の連接（連続して出現する名詞）を最長一致で抽出せよ．"
   ]
  },
  {
   "cell_type": "code",
   "execution_count": null,
   "metadata": {
    "collapsed": false
   },
   "outputs": [],
   "source": [
    "import pickle\n",
    "\n",
    "with open('source/neko.txt.mecab.pickle', 'rb') as f:\n",
    "    morphologies = pickle.load(f)\n",
    "\n",
    "for sentence in morphologies:\n",
    "    nouns = []\n",
    "    for i, morphology in enumerate(sentence):\n",
    "        if '名詞' == morphology['pos']:\n",
    "            nouns.append(morphology['surface'])\n",
    "            continue\n",
    "        else:\n",
    "            if 2 <= len(nouns):\n",
    "                print(\"\".join(nouns))\n",
    "            nouns = []"
   ]
  },
  {
   "cell_type": "markdown",
   "metadata": {},
   "source": [
    "## 36. 単語の出現頻度\n",
    "文章中に出現する単語とその出現頻度を求め，出現頻度の高い順に並べよ．"
   ]
  },
  {
   "cell_type": "code",
   "execution_count": null,
   "metadata": {
    "collapsed": false
   },
   "outputs": [],
   "source": [
    "import pickle\n",
    "from collections import defaultdict \n",
    "\n",
    "with open('source/neko.txt.mecab.pickle', 'rb') as f:\n",
    "    morphologies = pickle.load(f)\n",
    "\n",
    "# term frequency\n",
    "tf = defaultdict(int)\n",
    "for sentence in morphologies:\n",
    "    for morphology in sentence:\n",
    "        tf[morphology[\"base\"]] += 1\n",
    "\n",
    "for k in sorted(tf, key=lambda x: tf[x], reverse=True):\n",
    "    print(k, \",\", tf[k])"
   ]
  },
  {
   "cell_type": "markdown",
   "metadata": {},
   "source": [
    "## 37. 頻度上位10語\n",
    "出現頻度が高い10語とその出現頻度をグラフ（例えば棒グラフなど）で表示せよ．"
   ]
  },
  {
   "cell_type": "code",
   "execution_count": null,
   "metadata": {
    "collapsed": false
   },
   "outputs": [],
   "source": [
    "import pickle\n",
    "from collections import Counter, defaultdict \n",
    "import numpy as np\n",
    "import matplotlib.pyplot as plt\n",
    "# jupyterで表示するのに必要\n",
    "%matplotlib inline\n",
    "\n",
    "with open('source/neko.txt.mecab.pickle', 'rb') as f:\n",
    "    morphologies = pickle.load(f)\n",
    "\n",
    "# term frequency\n",
    "tf = [m['base'] for sentence in morphologies for m in sentence]\n",
    "count = Counter(tf)\n",
    "top10 = count.most_common(10)\n",
    "ind = np.arange(10)\n",
    "width = 0.35\n",
    "\n",
    "plt.bar(ind, [f for w, f in top10], width) # plt.bar(横軸, 縦軸, 横幅)\n",
    "plt.title('Top 10 of Term Frequency in Bocchan')\n",
    "plt.xlabel('Terms')\n",
    "plt.ylabel('Frequency')\n",
    "plt.xticks(ind + width / 2, [w for w, f in top10]) # 軸ラベル\n",
    "plt.show()\n"
   ]
  },
  {
   "cell_type": "markdown",
   "metadata": {},
   "source": [
    "## 38. ヒストグラム\n",
    "単語の出現頻度のヒストグラム（横軸に出現頻度，縦軸に出現頻度をとる単語の種類数を棒グラフで表したもの）を描け．"
   ]
  },
  {
   "cell_type": "code",
   "execution_count": null,
   "metadata": {
    "collapsed": false,
    "scrolled": false
   },
   "outputs": [],
   "source": [
    "import pickle\n",
    "from collections import Counter, defaultdict \n",
    "import numpy as np\n",
    "import matplotlib.pyplot as plt\n",
    "# jupyterで表示するのに必要\n",
    "%matplotlib inline\n",
    "\n",
    "with open('source/neko.txt.mecab.pickle', 'rb') as f:\n",
    "    morphologies = pickle.load(f)\n",
    "\n",
    "# term frequency\n",
    "tf = [m['base'] for sentence in morphologies for m in sentence]\n",
    "count = Counter(tf)\n",
    "\n",
    "plt.hist([f for w, f in count.items()], bins=100, range=(0, 10000))\n",
    "plt.title('Histogram of Term Frequency in Bocchan')\n",
    "plt.xlabel('Term Frequency')\n",
    "plt.ylabel('Freqency')\n",
    "plt.show()"
   ]
  },
  {
   "cell_type": "markdown",
   "metadata": {},
   "source": [
    "## 39. Zipfの法則\n",
    "単語の出現頻度順位を横軸，その出現頻度を縦軸として，両対数グラフをプロットせよ．"
   ]
  },
  {
   "cell_type": "code",
   "execution_count": null,
   "metadata": {
    "collapsed": false
   },
   "outputs": [],
   "source": [
    "import pickle\n",
    "from collections import Counter, defaultdict \n",
    "import numpy as np\n",
    "import matplotlib.pyplot as plt\n",
    "# jupyterで表示するのに必要\n",
    "%matplotlib inline\n",
    "\n",
    "with open('source/neko.txt.mecab.pickle', 'rb') as f:\n",
    "    morphologies = pickle.load(f)\n",
    "\n",
    "# term frequency\n",
    "tf = [m['base'] for sentence in morphologies for m in sentence]\n",
    "count = Counter(tf)\n",
    "\n",
    "top = count.most_common()\n",
    "rank = np.arange(len(top)) + 1\n",
    "freq = [f for w, f in top]\n",
    "plt.scatter(rank, freq, s=10)\n",
    "plt.title('Relationship between Rank and Value of Term Frequency')\n",
    "plt.xlabel('Rank (Logarithmic)')\n",
    "plt.ylabel('Term Frequency (Logarithmic)')\n",
    "plt.xscale('log')\n",
    "plt.yscale('log')\n",
    "plt.show()"
   ]
  }
 ],
 "metadata": {
  "kernelspec": {
   "display_name": "Python 3",
   "language": "python",
   "name": "python3"
  },
  "language_info": {
   "codemirror_mode": {
    "name": "ipython",
    "version": 3
   },
   "file_extension": ".py",
   "mimetype": "text/x-python",
   "name": "python",
   "nbconvert_exporter": "python",
   "pygments_lexer": "ipython3",
   "version": "3.5.1"
  }
 },
 "nbformat": 4,
 "nbformat_minor": 0
}
