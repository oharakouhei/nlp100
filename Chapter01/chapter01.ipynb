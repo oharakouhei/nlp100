{
 "cells": [
  {
   "cell_type": "markdown",
   "metadata": {},
   "source": [
    "# 言語処理100本ノック"
   ]
  },
  {
   "cell_type": "markdown",
   "metadata": {},
   "source": [
    "# 第1章: 準備運動"
   ]
  },
  {
   "cell_type": "markdown",
   "metadata": {},
   "source": [
    "## 00. 文字列の逆順\n",
    "文字列\"stressed\"の文字を逆に（末尾から先頭に向かって）並べた文字列を得よ．"
   ]
  },
  {
   "cell_type": "code",
   "execution_count": null,
   "metadata": {
    "collapsed": false
   },
   "outputs": [],
   "source": [
    "str = \"stressed\"\n",
    "print str[::-1]"
   ]
  },
  {
   "cell_type": "markdown",
   "metadata": {},
   "source": [
    "## 01. 「パタトクカシーー」\n",
    "「パタトクカシーー」という文字列の1,3,5,7文字目を取り出して連結した文字列を得よ．"
   ]
  },
  {
   "cell_type": "code",
   "execution_count": null,
   "metadata": {
    "collapsed": false
   },
   "outputs": [],
   "source": [
    "str = u\"パタトクカシーー\"\n",
    "print str[::2]"
   ]
  },
  {
   "cell_type": "markdown",
   "metadata": {},
   "source": [
    "## 02. 「パトカー」＋「タクシー」＝「パタトクカシーー」\n",
    "「パトカー」＋「タクシー」の文字を先頭から交互に連結して文字列「パタトクカシーー」を得よ．"
   ]
  },
  {
   "cell_type": "code",
   "execution_count": null,
   "metadata": {
    "collapsed": false
   },
   "outputs": [],
   "source": [
    "str1 = u\"パトカー\"\n",
    "str2 = u\"タクシー\"\n",
    "result = \"\".join([a + b for a, b in zip(str1, str2)])\n",
    "print result"
   ]
  },
  {
   "cell_type": "markdown",
   "metadata": {
    "collapsed": true
   },
   "source": [
    "## 03. 円周率\n",
    "\"Now I need a drink, alcoholic of course, after the heavy lectures involving quantum mechanics.\"という文を単語に分解し，各単語の（アルファベットの）文字数を先頭から出現順に並べたリストを作成せよ．"
   ]
  },
  {
   "cell_type": "code",
   "execution_count": null,
   "metadata": {
    "collapsed": false
   },
   "outputs": [],
   "source": [
    "str = \"Now I need a drink, alcoholic of course, after the heavy lectures involving quantum mechanics.\"\n",
    "str = str.translate(None, \".,\") # .と,の削除\n",
    "\n",
    "list = [len(word) for word in str.split()]\n",
    "\n",
    "print list"
   ]
  },
  {
   "cell_type": "markdown",
   "metadata": {
    "collapsed": true
   },
   "source": [
    "## 04. 元素記号\n",
    "\"Hi He Lied Because Boron Could Not Oxidize Fluorine. New Nations Might Also Sign Peace Security Clause. Arthur King Can.\"という文を単語に分解し，1, 5, 6, 7, 8, 9, 15, 16, 19番目の単語は先頭の1文字，それ以外の単語は先頭に2文字を取り出し，取り出した文字列から単語の位置（先頭から何番目の単語か）への連想配列（辞書型もしくはマップ型）を作成せよ．"
   ]
  },
  {
   "cell_type": "code",
   "execution_count": null,
   "metadata": {
    "collapsed": false
   },
   "outputs": [],
   "source": [
    "str = \"Hi He Lied Because Boron Could Not Oxidize Fluorine. New Nations Might Also Sign Peace Security Clause. Arthur King Can.\"\n",
    "str= str.translate(None, \".,\") # .と,の削除\n",
    "words_list = str.split()\n",
    "\n",
    "achar_list = [1, 5, 6, 7, 8, 9, 15, 16, 19] # 何番目の単語を先頭一文字だけ取得するかのリスト\n",
    "\n",
    "dict = {}\n",
    "\n",
    "for i, word in enumerate(words_list):\n",
    "    index = i + 1 # 何番目の単語か\n",
    "    clen = 1 if index in achar_list else 2 # 先頭から何文字切り出すか\n",
    "    dict[index] = word[:clen]\n",
    "    \n",
    "print dict"
   ]
  },
  {
   "cell_type": "markdown",
   "metadata": {},
   "source": [
    "## 05. n-gram\n",
    "与えられたシーケンス（文字列やリストなど）からn-gramを作る関数を作成せよ．この関数を用い，\"I am an NLPer\"という文から単語bi-gram，文字bi-gramを得よ．"
   ]
  },
  {
   "cell_type": "code",
   "execution_count": null,
   "metadata": {
    "collapsed": false
   },
   "outputs": [],
   "source": [
    "# 単語n-gramなのか文字n-gramなのか用\n",
    "(\n",
    "    TYPE_WORD,\n",
    "    TYPE_CHAR\n",
    ") = range(0, 2)\n",
    "\n",
    "#\n",
    "# ngramを切り出す関数\n",
    "# @param input 入力文(ピリオドやコンマを含まない)\n",
    "# @param n n-gram\n",
    "# @param type 単語n-gramなのか文字n-gramなのか\n",
    "# @return ngram_list n-gramのリスト\n",
    "#\n",
    "def ngram(input, n, type=TYPE_CHAR):\n",
    "    if TYPE_WORD == type:\n",
    "         input = input.split()\n",
    "            \n",
    "    last = len(input) - n + 1\n",
    "    ngram_list = [input[i] + \"-\" + input[i+1] for i in range(0, last)] # ハイフンでつなげる\n",
    "    return ngram_list\n",
    "    \n",
    "str = \"I am an NLPer\"\n",
    "print ngram(str, 2, TYPE_WORD)\n",
    "print ngram(str, 2, TYPE_CHAR)"
   ]
  },
  {
   "cell_type": "markdown",
   "metadata": {
    "collapsed": false
   },
   "source": [
    "## 06. 集合\n",
    "\"paraparaparadise\"と\"paragraph\"に含まれる文字bi-gramの集合を，それぞれ, XとYとして求め，XとYの和集合，積集合，差集合を求めよ．さらに，'se'というbi-gramがXおよびYに含まれるかどうかを調べよ．"
   ]
  },
  {
   "cell_type": "code",
   "execution_count": null,
   "metadata": {
    "collapsed": false
   },
   "outputs": [],
   "source": [
    "str_x = \"paraparaparadise\"\n",
    "str_y = \"paragraph\"\n",
    "X = set(ngram(str_x, 2)) # ngramのlistをsetに\n",
    "Y = set(ngram(str_y, 2))\n",
    "\n",
    "print X.union(Y)                 # 和集合\n",
    "print X.intersection(Y)     # 積集合\n",
    "print X.difference(Y)        # 差集合\n",
    "\n",
    "print \"se\" in X     # in: X に \"se\" が含まれていれば True, いなければ False\n",
    "print \"se\" in Y     # ほとんど同上（X -> Y）"
   ]
  },
  {
   "cell_type": "markdown",
   "metadata": {},
   "source": [
    "## 07. テンプレートによる文生成\n",
    "引数x, y, zを受け取り「x時のyはz」という文字列を返す関数を実装せよ．さらに，x=12, y=\"気温\", z=22.4として，実行結果を確認せよ．"
   ]
  },
  {
   "cell_type": "code",
   "execution_count": null,
   "metadata": {
    "collapsed": false
   },
   "outputs": [],
   "source": [
    "x = 12\n",
    "y = u'気温'\n",
    "z = 22.4\n",
    "\n",
    "def function(x, y, z):\n",
    "    return unicode(x) + u'時の' + unicode(y) + u'は' + unicode(z)\n",
    "\n",
    "print function(x, y, z)"
   ]
  },
  {
   "cell_type": "markdown",
   "metadata": {},
   "source": [
    "## 08. 暗号文\n",
    "与えられた文字列の各文字を，以下の仕様で変換する関数cipherを実装せよ．\n",
    "\n",
    "* 英小文字ならば(219 - 文字コード)の文字に置換\n",
    "* その他の文字はそのまま出力\n",
    "\n",
    "この関数を用い，英語のメッセージを暗号化・復号化せよ．"
   ]
  },
  {
   "cell_type": "code",
   "execution_count": null,
   "metadata": {
    "collapsed": false
   },
   "outputs": [],
   "source": [
    "## いわゆるatbash暗号\n",
    "# 出典: Wikipedia 英語版 \"Atbash\" より\n",
    "str = \"Atbash is a simple substitution cipher for the Hebrew alphabet.\"\n",
    "\n",
    "# 同一関数で暗号化と復号化をできる\n",
    "# chr() はASCIIコードから具体的な文字に変換してくれる関数（chr(97) -> 'a'）．\n",
    "# ord() はその逆だけど，Unicode であれば Unicode コードポイントを返してくれる．\n",
    "# chr() の Unicode 版が unichr()\n",
    "def cipher(input):\n",
    "    ret = \"\"\n",
    "    for char in input:\n",
    "        ret += chr(219-ord(char)) if char.islower() else char\n",
    "    return ret\n",
    "\n",
    "str = cipher(str)\n",
    "print str\n",
    "str = cipher(str)\n",
    "print str\n"
   ]
  },
  {
   "cell_type": "markdown",
   "metadata": {},
   "source": [
    "## 09. Typoglycemia\n",
    "スペースで区切られた単語列に対して，各単語の先頭と末尾の文字は残し，それ以外の文字の順序をランダムに並び替えるプログラムを作成せよ．ただし，長さが４以下の単語は並び替えないこととする．適当な英語の文（例えば\"I couldn't believe that I could actually understand what I was reading : the phenomenal power of the human mind .\"）を与え，その実行結果を確認せよ．"
   ]
  },
  {
   "cell_type": "code",
   "execution_count": null,
   "metadata": {
    "collapsed": false
   },
   "outputs": [],
   "source": [
    "import random\n",
    "\n",
    "str = \"I couldn't believe that I could actually understand what I was reading : the phenomenal power of the human mind .\"\n",
    "words = str.split()\n",
    "shuffled_list = []\n",
    "\n",
    "for word in words:\n",
    "    if len(word) <= 4:\n",
    "        pass\n",
    "    else:\n",
    "        char_list = list(word)    # 文字列をリストにできる！\n",
    "        mid_list = char_list[1:-1]\n",
    "        random.shuffle(mid_list)\n",
    "        word = word[0] + \"\".join(mid_list) + word[-1]\n",
    "    shuffled_list.append(word)\n",
    "\n",
    "shuffled_str = \" \".join(shuffled_list)\n",
    "print shuffled_str"
   ]
  }
 ],
 "metadata": {
  "kernelspec": {
   "display_name": "Python 2",
   "language": "python",
   "name": "python2"
  },
  "language_info": {
   "codemirror_mode": {
    "name": "ipython",
    "version": 2
   },
   "file_extension": ".py",
   "mimetype": "text/x-python",
   "name": "python",
   "nbconvert_exporter": "python",
   "pygments_lexer": "ipython2",
   "version": "2.7.9"
  }
 },
 "nbformat": 4,
 "nbformat_minor": 0
}
