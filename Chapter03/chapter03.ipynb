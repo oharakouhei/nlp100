{
 "cells": [
  {
   "cell_type": "markdown",
   "metadata": {},
   "source": [
    "# 第3章: 正規表現\n",
    "Wikipediaの記事を以下のフォーマットで書き出したファイルjawiki-country.json.gzがある．\n",
    "* 1行に1記事の情報がJSON形式で格納される\n",
    "* 各行には記事名が\"title\"キーに，記事本文が\"text\"キーの辞書オブジェクトに格納され，そのオブジェクトがJSON形式で書き出される\n",
    "* ファイル全体はgzipで圧縮される\n",
    "以下の処理を行うプログラムを作成せよ．"
   ]
  },
  {
   "cell_type": "markdown",
   "metadata": {},
   "source": [
    "## 20. JSONデータの読み込み\n",
    "Wikipedia記事のJSONファイルを読み込み，「イギリス」に関する記事本文を表示せよ．問題21-29では，ここで抽出した記事本文に対して実行せよ．"
   ]
  },
  {
   "cell_type": "code",
   "execution_count": null,
   "metadata": {
    "collapsed": false,
    "scrolled": false
   },
   "outputs": [],
   "source": [
    "import gzip\n",
    "import json\n",
    "\n",
    "filepath = \"source/jawiki-country.json.gz\"\n",
    "\n",
    "def get_article(title):\n",
    "    with gzip.open(filepath, \"r\") as f:\n",
    "        article_json = f.readline()\n",
    "        while article_json:\n",
    "            article_dict = json.loads(article_json.decode('utf-8'))\n",
    "            if article_dict[\"title\"] == title:\n",
    "                return article_dict[\"text\"]\n",
    "            article_json = f.readline()\n",
    "    return \"\"\n",
    "            \n",
    "            \n",
    "print(get_article(\"イギリス\"))"
   ]
  },
  {
   "cell_type": "markdown",
   "metadata": {},
   "source": [
    "## 21. カテゴリ名を含む行を抽出\n",
    "記事中でカテゴリ名を宣言している行を抽出せよ．"
   ]
  },
  {
   "cell_type": "code",
   "execution_count": null,
   "metadata": {
    "collapsed": false,
    "scrolled": true
   },
   "outputs": [],
   "source": [
    "lines = get_article(\"イギリス\").split(\"\\n\")\n",
    "\n",
    "for line in lines:\n",
    "    if \"Category\" in line:\n",
    "        print(line)"
   ]
  },
  {
   "cell_type": "markdown",
   "metadata": {},
   "source": [
    "## 22. カテゴリ名の抽出\n",
    "記事のカテゴリ名を（行単位ではなく名前で）抽出せよ．"
   ]
  },
  {
   "cell_type": "code",
   "execution_count": null,
   "metadata": {
    "collapsed": false
   },
   "outputs": [],
   "source": [
    "import re\n",
    "\n",
    "lines = get_article(\"イギリス\").split(\"\\n\")\n",
    "\n",
    "for line in lines:\n",
    "    category_line = re.search(\"^\\[\\[Category:(.*)(|\\|.*)\\]\\]$\", line)\n",
    "    if category_line is not None:\n",
    "        print(category_line.group(1))"
   ]
  },
  {
   "cell_type": "markdown",
   "metadata": {},
   "source": [
    "## 23. セクション構造\n",
    "記事中に含まれるセクション名とそのレベル（例えば\"== セクション名 ==\"なら1）を表示せよ．"
   ]
  },
  {
   "cell_type": "code",
   "execution_count": null,
   "metadata": {
    "collapsed": false
   },
   "outputs": [],
   "source": [
    "import re\n",
    "\n",
    "lines = get_article(\"イギリス\").split(\"\\n\")\n",
    "\n",
    "for line in lines:\n",
    "    # (.*?)でなく(.*)とすると、\"セクション=\"が抽出されてしまう\n",
    "    section_title_line = re.search(\"^(=+)(.*?)(=+)$\", line)\n",
    "    if section_title_line is not None:\n",
    "        print(section_title_line.group(2), \": \", len(section_title_line.group(1)))"
   ]
  },
  {
   "cell_type": "markdown",
   "metadata": {},
   "source": [
    "## 24. ファイル参照の抽出\n",
    "記事から参照されているメディアファイルをすべて抜き出せ．"
   ]
  },
  {
   "cell_type": "code",
   "execution_count": null,
   "metadata": {
    "collapsed": false
   },
   "outputs": [],
   "source": [
    "import re\n",
    "\n",
    "lines = get_article(\"イギリス\").split(\"\\n\")\n",
    "\n",
    "for line in lines:\n",
    "    file_line = re.search(\"(File|ファイル):(.*?)\\|\", line)\n",
    "    if file_line is not None:\n",
    "        print(file_line.group(2))"
   ]
  },
  {
   "cell_type": "markdown",
   "metadata": {},
   "source": [
    "## 25. テンプレートの抽出\n",
    "記事中に含まれる「基礎情報」テンプレートのフィールド名と値を抽出し，辞書オブジェクトとして格納せよ．"
   ]
  },
  {
   "cell_type": "code",
   "execution_count": null,
   "metadata": {
    "collapsed": false
   },
   "outputs": [],
   "source": [
    "import re\n",
    "\n",
    "lines = re.split(r\"\\n[\\|}]\", get_article(\"イギリス\"))\n",
    "temp_dict = {}\n",
    "\n",
    "for line in lines:\n",
    "    temp_line = re.search(\"^(.*?)\\s=\\s(.*)\", line, re.S)\n",
    "    if temp_line is not None:\n",
    "        temp_dict[temp_line.group(1)] = temp_line.group(2)\n",
    "\n",
    "# valueで並べ替えでprint\n",
    "for k, v in sorted(temp_dict.items(), key=lambda x: x[1]):\n",
    "    print(k, v)\n"
   ]
  },
  {
   "cell_type": "markdown",
   "metadata": {},
   "source": [
    "## 26. 強調マークアップの除去\n",
    "25の処理時に，テンプレートの値からMediaWikiの強調マークアップ（弱い強調，強調，強い強調のすべて）を除去してテキストに変換せよ（参考: マークアップ早見表）"
   ]
  },
  {
   "cell_type": "code",
   "execution_count": null,
   "metadata": {
    "collapsed": false
   },
   "outputs": [],
   "source": [
    "import re\n",
    "\n",
    "temp_dict = {}\n",
    "lines = re.split(r\"\\n[\\|}]\", get_article(\"イギリス\"))\n",
    "\n",
    "for line in lines:\n",
    "    temp_line = re.search(\"^(.*?)\\s=\\s(.*)\", line, re.S)\n",
    "    if temp_line is not None:\n",
    "        # 'が2~5個存在しているものを空文字に変換\n",
    "        temp_dict[temp_line.group(1)] = re.sub(r\"'{2,5}\", r\"\", temp_line.group(2))\n",
    "\n",
    "# Python3 参照\n",
    "for k, v in sorted(temp_dict.items(), key=lambda x: x[1]):\n",
    "    print(k, v)"
   ]
  },
  {
   "cell_type": "markdown",
   "metadata": {},
   "source": [
    "## 27. 内部リンクの除去\n",
    "26の処理に加えて，テンプレートの値からMediaWikiの内部リンクマークアップを除去し，テキストに変換せよ（参考: [マークアップ早見表](https://ja.wikipedia.org/wiki/Help:%E6%97%A9%E8%A6%8B%E8%A1%A8)）．"
   ]
  },
  {
   "cell_type": "code",
   "execution_count": null,
   "metadata": {
    "collapsed": false
   },
   "outputs": [],
   "source": [
    "import re\n",
    "\n",
    "def remove_markup(str):\n",
    "    str = re.sub(r\"'{2,5}\", r\"\", str)\n",
    "    # 文字クラス[]の中では、^は補集合を表す。[^|\\]]は、|と]を除く文字の集合を意味\n",
    "    str = re.sub(r\"\\[{2}([^|\\]]+?\\|)*(.+?)\\]{2}\", r\"\\2\", str)\n",
    "    return str\n",
    "\n",
    "temp_dict = {}\n",
    "lines = re.split(r\"\\n[\\|}]\", get_article(\"イギリス\"))\n",
    "\n",
    "for line in lines:\n",
    "    temp_line = re.search(\"^(.*?)\\s=\\s(.*)\", line, re.S)\n",
    "    if temp_line is not None:\n",
    "        # 'が2~5個存在しているものを空文字に変換\n",
    "        temp_dict[temp_line.group(1)] = remove_markup(temp_line.group(2))\n",
    "\n",
    "# Python3 参照\n",
    "for k, v in sorted(temp_dict.items(), key=lambda x: x[1]):\n",
    "    print(k, v)"
   ]
  },
  {
   "cell_type": "markdown",
   "metadata": {},
   "source": [
    "## 28. MediaWikiマークアップの除去\n",
    "27の処理に加えて，テンプレートの値からMediaWikiマークアップを可能な限り除去し，国の基本情報を整形せよ．"
   ]
  },
  {
   "cell_type": "code",
   "execution_count": null,
   "metadata": {
    "collapsed": false
   },
   "outputs": [],
   "source": [
    "import re\n",
    "\n",
    "def remove_markup(str):\n",
    "    str = re.sub(r\"'{2,5}\", r\"\", str) # 強調除去\n",
    "    # 文字クラス[]の中では、^は補集合を表す。[^|\\]]は、|と]を除く文字の集合を意味\n",
    "    str = re.sub(r\"\\[{2}([^|\\]]+?\\|)*(.+?)\\]{2}\", r\"\\2\", str) # 内部リンク除去\n",
    "    str = re.sub(r\"\\{{2}.+?\\|.+?\\|(.+?)\\}{2}\", r\"\\1 \", str) # 国名\n",
    "    str = re.sub(r\"<.*?>\", r\"\", str) # htmlタグ\n",
    "    str = re.sub(r\"\\[.*?\\]\", r\"\", str) # 外部リンク\n",
    "    return str\n",
    "\n",
    "temp_dict = {}\n",
    "lines = re.split(r\"\\n[\\|}]\", get_article(\"イギリス\"))\n",
    "\n",
    "for line in lines:\n",
    "    temp_line = re.search(\"^(.*?)\\s=\\s(.*)\", line, re.S)\n",
    "    if temp_line is not None:\n",
    "        # 'が2~5個存在しているものを空文字に変換\n",
    "        temp_dict[temp_line.group(1)] = remove_markup(temp_line.group(2))\n",
    "\n",
    "# Python3 参照\n",
    "for k, v in sorted(temp_dict.items(), key=lambda x: x[1]):\n",
    "    print(k, v)"
   ]
  },
  {
   "cell_type": "markdown",
   "metadata": {},
   "source": [
    "## 29. 国旗画像のURLを取得する\n",
    "テンプレートの内容を利用し，国旗画像のURLを取得せよ．（ヒント: MediaWiki APIのimageinfoを呼び出して，ファイル参照をURLに変換すればよい）"
   ]
  },
  {
   "cell_type": "code",
   "execution_count": null,
   "metadata": {
    "collapsed": false
   },
   "outputs": [],
   "source": [
    "import re\n",
    "import requests\n",
    "\n",
    "# 複雑な入れ子構造になっているjsonを、1層の（入れ子構造になっていない）dict型に変換\n",
    "def json_search(json_data):\n",
    "    ret_dict = {}\n",
    "    for k, v in json_data.items():\n",
    "        if isinstance(v, list):\n",
    "            for e in v:\n",
    "                ret_dict.update(json_search(e))\n",
    "        elif isinstance(v, dict):\n",
    "            ret_dict.update(json_search(v))\n",
    "        else:\n",
    "            ret_dict[k] = v\n",
    "    return ret_dict\n",
    "\n",
    "\n",
    "def remove_markup(str):\n",
    "    str = re.sub(r\"'{2,5}\", r\"\", str)\n",
    "    str = re.sub(r\"\\[{2}([^|\\]]+?\\|)*(.+?)\\]{2}\", r\"\\2\", str)\n",
    "    str = re.sub(r\"\\{{2}.+?\\|.+?\\|(.+?)\\}{2}\", r\"\\1 \", str)\n",
    "    str = re.sub(r\"<.*?>\", r\"\", str)\n",
    "    str = re.sub(r\"\\[.*?\\]\", r\"\", str)\n",
    "    return str\n",
    "\n",
    "temp_dict = {}\n",
    "lines = get_article(\"イギリス\").split(\"\\n\")\n",
    "\n",
    "for line in lines:\n",
    "    temp_line = re.search(\"^\\|(.*?)\\s=\\s(.*)\", line)\n",
    "    if temp_line is not None:\n",
    "        temp_dict[temp_line.group(1)] = remove_markup(temp_line.group(2))\n",
    "\n",
    "url = \"https://en.wikipedia.org/w/api.php\"\n",
    "payload = {\"action\": \"query\",\n",
    "           \"titles\": \"File:{}\".format(temp_dict[u\"国旗画像\"]),\n",
    "           \"prop\": \"imageinfo\",\n",
    "           \"format\": \"json\",\n",
    "           \"iiprop\": \"url\"}\n",
    "\n",
    "json_data = requests.get(url, params=payload).json()\n",
    "print(json_search(json_data)[\"url\"])"
   ]
  }
 ],
 "metadata": {
  "kernelspec": {
   "display_name": "Python 3",
   "language": "python",
   "name": "python3"
  },
  "language_info": {
   "codemirror_mode": {
    "name": "ipython",
    "version": 3
   },
   "file_extension": ".py",
   "mimetype": "text/x-python",
   "name": "python",
   "nbconvert_exporter": "python",
   "pygments_lexer": "ipython3",
   "version": "3.5.1"
  }
 },
 "nbformat": 4,
 "nbformat_minor": 0
}
