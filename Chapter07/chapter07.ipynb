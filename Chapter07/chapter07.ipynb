{
 "cells": [
  {
   "cell_type": "markdown",
   "metadata": {},
   "source": [
    "# 第7章: データベース\n",
    "\n",
    "artist.json.gzは，オープンな音楽データベースMusicBrainzの中で，アーティストに関するものをJSON形式に変換し，gzip形式で圧縮したファイルである．このファイルには，1アーティストに関する情報が1行にJSON形式で格納されている．jsonの形式は[100本ノックのページを参照](http://www.cl.ecei.tohoku.ac.jp/nlp100/#ch7)．\n",
    "\n",
    "artist.json.gzのデータをKey-Value-Store (KVS) およびドキュメント志向型データベースに格納・検索することを考える．KVSとしては，LevelDB，Redis，KyotoCabinet等を用いよ．ドキュメント志向型データベースとして，MongoDBを採用したが，CouchDBやRethinkDB等を用いてもよい．"
   ]
  },
  {
   "cell_type": "markdown",
   "metadata": {},
   "source": [
    "## 60. KVSの構築\n",
    "Key-Value-Store (KVS) を用い，アーティスト名（name）から活動場所（area）を検索するためのデータベースを構築せよ．"
   ]
  },
  {
   "cell_type": "code",
   "execution_count": null,
   "metadata": {
    "collapsed": false
   },
   "outputs": [],
   "source": [
    "import redis\n",
    "import gzip\n",
    "import json\n",
    "import codecs\n",
    "\n",
    "def generate_database():\n",
    "    with gzip.open('source/artist.json.gz', 'rb') as f:\n",
    "        line = f.readline()\n",
    "        r = redis.StrictRedis()\n",
    "        while line:\n",
    "            data = json.loads(line.decode('utf-8'))\n",
    "            line = f.readline()\n",
    "            if 'area' in data:\n",
    "                r.set(data['name'], data['area'])\n",
    "            else:\n",
    "                r.set(data['name'], 'No Information')\n",
    "\n",
    "# import json\n",
    "\n",
    "\n",
    "if __name__ == '__main__':\n",
    "    generate_database()"
   ]
  },
  {
   "cell_type": "markdown",
   "metadata": {},
   "source": [
    "## 61. KVSの検索\n",
    "60で構築したデータベースを用い，特定の（指定された）アーティストの活動場所を取得せよ．"
   ]
  },
  {
   "cell_type": "code",
   "execution_count": null,
   "metadata": {
    "collapsed": false
   },
   "outputs": [],
   "source": [
    "# pythonで書く場合\n",
    "import redis\n",
    "\n",
    "if __name__ == '__main__':\n",
    "    r = redis.StrictRedis()\n",
    "    print(r.get(\"Einkaufen Einkaufen\"))"
   ]
  },
  {
   "cell_type": "markdown",
   "metadata": {},
   "source": [
    "コマンドラインで叩く場合\n",
    "```\n",
    "$ redis-cli\n",
    "127.0.0.1:6379> keys *                                # redisに登録されているkeyの一覧\n",
    "     1) \"Einkaufen Einkaufen\"\n",
    "     2) \"Micah Templeton-Wolfe\"\n",
    "     3) \"Richard Calkin\"\n",
    "     4) \"Z\\xc3\\xa9 Neguinho do C\\xc3\\xb4co\"\n",
    "     5) \"\\xed\\x8c\\x90\\xeb\\x8b\\xa4\\xed\\x92\\x80\"\n",
    "     6) \"Hermanastra\"\n",
    "     7) \"Nocturnal Sea\"\n",
    "     8) \"Juiceppe\"\n",
    "     9) \"Ms. Corona\"\n",
    "    10) \"The SALOVERS\"\n",
    "...\n",
    "    864784) \"Archyp\"\n",
    "    864785) \"Rivo Drei\"\n",
    "    864786) \"No Talent\"\n",
    "    864787) \"Teka Tema\"\n",
    "    864788) \"Mike Marlin\"\n",
    "    864789) \"\\xe4\\xba\\x95\\xe4\\xb8\\x8a\\xe4\\xbf\\x8a\\xe5\\xbd\\xa6\"\n",
    "\n",
    "127.0.0.1:6379> get \"Einkaufen Einkaufen\"\n",
    "\"No Information\"\n",
    "127.0.0.1:6379> get \"Hermanastra\"\n",
    "\"Spain\"\n",
    "```"
   ]
  },
  {
   "cell_type": "markdown",
   "metadata": {},
   "source": [
    "## 62. KVS内の反復処理\n",
    "60で構築したデータベースを用い，活動場所が「Japan」となっているアーティスト数を求めよ．"
   ]
  },
  {
   "cell_type": "code",
   "execution_count": null,
   "metadata": {
    "collapsed": true
   },
   "outputs": [],
   "source": [
    "import redis\n",
    "\n",
    "if __name__ == '__main__':\n",
    "    r = redis.StrictRedis()\n",
    "    nof_ja = 0\n",
    "    for key in r.scan_iter():\n",
    "        if 'Japan' == r.get(key).decode('utf-8'):\n",
    "            nof_ja += 1\n",
    "    print(nof_ja)"
   ]
  },
  {
   "cell_type": "markdown",
   "metadata": {},
   "source": [
    "## 63. オブジェクトを値に格納したKVS\n",
    "KVSを用い，アーティスト名（name）からタグと被タグ数（タグ付けされた回数）のリストを検索するためのデータベースを構築せよ．さらに，ここで構築したデータベースを用い，アーティスト名からタグと被タグ数を検索せよ．"
   ]
  },
  {
   "cell_type": "code",
   "execution_count": null,
   "metadata": {
    "collapsed": false
   },
   "outputs": [],
   "source": [
    "import redis\n",
    "import gzip\n",
    "import json\n",
    "\n",
    "def generate_database():\n",
    "    with gzip.open('source/artist.json.gz', 'rb') as f:\n",
    "        line = f.readline()\n",
    "        i = 0\n",
    "        r = redis.StrictRedis()\n",
    "        while line:\n",
    "            i += 1\n",
    "            data = json.loads(line.decode('utf-8'))\n",
    "            line = f.readline()\n",
    "            if 'tags' in data:\n",
    "                for hash_tags in data['tags']:\n",
    "                    r.hset(data['name'], hash_tags['value'], hash_tags['count'])\n",
    "                \n",
    "if __name__ == '__main__':\n",
    "    generate_database()"
   ]
  },
  {
   "cell_type": "code",
   "execution_count": null,
   "metadata": {
    "collapsed": false
   },
   "outputs": [],
   "source": [
    "import redis\n",
    "\n",
    "# artist全体に関する操作を行うクラス\n",
    "class Artists(object):\n",
    "    def __init__(self):\n",
    "        r = redis.StrictRedis()\n",
    "    \n",
    "    # \n",
    "    # 一覧表示するメソッド\n",
    "    # @param start 何件目から取得するか\n",
    "    # @param n 何件取得するか\n",
    "    #\n",
    "    def list(self, start, n):\n",
    "        if start < 0:\n",
    "            print('0以上の整数で入力してください')\n",
    "            return\n",
    "        if n < 0:\n",
    "            print('0以上の整数で入力してください')\n",
    "            return\n",
    "        i = 0\n",
    "        for key in r.scan_iter():\n",
    "            i += 1\n",
    "            if i < start:\n",
    "                continue\n",
    "            else:\n",
    "                print(key.decode('utf-8'))\n",
    "                if start <= (i - n + 1):\n",
    "                    break\n",
    "\n",
    "    \n",
    "    def find_by_name(self, name):\n",
    "        if r.exists(name):\n",
    "            self.tags = dict()\n",
    "            for field in r.hkeys(name):\n",
    "                self.tags[field] = int(r.hget(name, field))\n",
    "            print('データが見つかりました')\n",
    "            return self.tags\n",
    "        else:\n",
    "            print('データがありません')\n",
    "            return\n",
    "        \n",
    "    # タグ付けされた総回数を返すメソッド\n",
    "    def total_taged_count(self):\n",
    "        total = 0\n",
    "        for field in self.tags:\n",
    "            total += self.tags[field]\n",
    "        return total\n",
    "\n",
    "if __name__ == '__main__':\n",
    "    artists = Artists()\n",
    "    artists.list(100, 10)\n",
    "    artists.find_by_name('黒住憲五')\n",
    "    print(artists.total_taged_count())"
   ]
  },
  {
   "cell_type": "markdown",
   "metadata": {},
   "source": [
    "## 64. MongoDBの構築\n",
    "アーティスト情報（artist.json.gz）をデータベースに登録せよ．さらに，次のフィールドでインデックスを作成せよ: name, aliases.name, tags.value, rating.value"
   ]
  },
  {
   "cell_type": "code",
   "execution_count": null,
   "metadata": {
    "collapsed": false
   },
   "outputs": [],
   "source": [
    "import gzip\n",
    "import pymongo\n",
    "\n",
    "if __name__ == '__main__':\n",
    "    client = pymongo.MongoClient(host='localhost', port=27017)\n",
    "    db = client.nlp100_chapter07\n",
    "    artists = db.artists\n",
    "    with gzip.open('source/artist.json.gz', 'rb') as f:\n",
    "        line = f.readline()\n",
    "        while line:\n",
    "            data = json.loads(line.decode('utf-8'))\n",
    "            artists.insert_one(data)\n",
    "            line = f.readline()"
   ]
  },
  {
   "cell_type": "markdown",
   "metadata": {},
   "source": [
    "### インデックス\n",
    "```\n",
    "> db.artists.createIndex({name: 1})\n",
    "{\n",
    "\t\"createdCollectionAutomatically\" : false,\n",
    "\t\"numIndexesBefore\" : 3,\n",
    "\t\"numIndexesAfter\" : 3,\n",
    "\t\"note\" : \"all indexes already exist\",\n",
    "\t\"ok\" : 1\n",
    "}\n",
    "> db.artists.createIndex({'aliases.name': 1})\n",
    "{\n",
    "\t\"createdCollectionAutomatically\" : false,\n",
    "\t\"numIndexesBefore\" : 2,\n",
    "\t\"numIndexesAfter\" : 3,\n",
    "\t\"ok\" : 1\n",
    "}\n",
    "> db.artists.createIndex({'tags.value': 1})\n",
    "{\n",
    "\t\"createdCollectionAutomatically\" : false,\n",
    "\t\"numIndexesBefore\" : 3,\n",
    "\t\"numIndexesAfter\" : 4,\n",
    "\t\"ok\" : 1\n",
    "}\n",
    "> db.artists.createIndex({'rating.value': 1})\n",
    "{\n",
    "\t\"createdCollectionAutomatically\" : false,\n",
    "\t\"numIndexesBefore\" : 4,\n",
    "\t\"numIndexesAfter\" : 5,\n",
    "\t\"ok\" : 1\n",
    "}\n",
    "```\n",
    "インデックスは、以下で確認できる\n",
    "```\n",
    "> db.artists.getIndexes()\n",
    "```"
   ]
  },
  {
   "cell_type": "markdown",
   "metadata": {},
   "source": [
    "## 65. MongoDBの検索\n",
    "MongoDBのインタラクティブシェルを用いて，\"Queen\"というアーティストに関する情報を取得せよ．さらに，これと同様の処理を行うプログラムを実装せよ．"
   ]
  },
  {
   "cell_type": "markdown",
   "metadata": {},
   "source": [
    "### mongodb\n",
    "```\n",
    "> db.artists.findOne({name: 'Queen'})\n",
    "```"
   ]
  },
  {
   "cell_type": "code",
   "execution_count": null,
   "metadata": {
    "collapsed": false
   },
   "outputs": [],
   "source": [
    "import pymongo\n",
    "\n",
    "# pythonでは\n",
    "if __name__ == '__main__':\n",
    "    client = pymongo.MongoClient(host='localhost', port=27017)\n",
    "    db = client.nlp100_chapter07\n",
    "    artists = db.artists\n",
    "    print(artists.find_one({'name': 'Queen'}))"
   ]
  },
  {
   "cell_type": "markdown",
   "metadata": {},
   "source": [
    "## 66. 検索件数の取得\n",
    "MongoDBのインタラクティブシェルを用いて，活動場所が「Japan」となっているアーティスト数を求めよ．"
   ]
  },
  {
   "cell_type": "markdown",
   "metadata": {},
   "source": [
    "```\n",
    "> db.artists.find({area: 'Japan'}).count()\n",
    "22821\n",
    "```"
   ]
  },
  {
   "cell_type": "markdown",
   "metadata": {},
   "source": [
    "## 67. 複数のドキュメントの取得\n",
    "特定の（指定した）別名を持つアーティストを検索せよ．"
   ]
  },
  {
   "cell_type": "markdown",
   "metadata": {},
   "source": [
    "```\n",
    "> db.artists.findOne({'aliases.name': 'Queen'})\n",
    "```"
   ]
  },
  {
   "cell_type": "markdown",
   "metadata": {},
   "source": [
    "## 68. ソート\n",
    "\"dance\"というタグを付与されたアーティストの中でレーティングの投票数が多いアーティスト・トップ10を求めよ．"
   ]
  },
  {
   "cell_type": "markdown",
   "metadata": {},
   "source": [
    "* find({}, {}): 第一引数：検索条件, 第二引数：表示するfieldの設定（デフォルト1。表示させたくないフィールドを0にする）\n",
    "* sort({}): sortするfield。1昇順。-1降順\n",
    "* limit()： 取得してくる件数\n",
    "```\n",
    "> db.artists.find({'tags.value': 'dance'}, {'_id': 0, 'id': 0, 'sort_name': 0, 'gid': 0, 'tags': 0, 'begin': 0, 'ended': 0, 'aliases': 0}).sort({'rating.value': -1}).limit(100)\n",
    "```"
   ]
  },
  {
   "cell_type": "markdown",
   "metadata": {},
   "source": [
    "## 69. Webアプリケーションの作成\n",
    "ユーザから入力された検索条件に合致するアーティストの情報を表示するWebアプリケーションを作成せよ．アーティスト名，アーティストの別名，タグ等で検索条件を指定し，アーティスト情報のリストをレーティングの高い順などで整列して表示せよ．"
   ]
  },
  {
   "cell_type": "markdown",
   "metadata": {},
   "source": [
    "railsなどで作成すれば良い。"
   ]
  }
 ],
 "metadata": {
  "kernelspec": {
   "display_name": "Python 3",
   "language": "python",
   "name": "python3"
  },
  "language_info": {
   "codemirror_mode": {
    "name": "ipython",
    "version": 3
   },
   "file_extension": ".py",
   "mimetype": "text/x-python",
   "name": "python",
   "nbconvert_exporter": "python",
   "pygments_lexer": "ipython3",
   "version": "3.5.1"
  }
 },
 "nbformat": 4,
 "nbformat_minor": 0
}
