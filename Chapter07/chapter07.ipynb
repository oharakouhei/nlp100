{
 "cells": [
  {
   "cell_type": "markdown",
   "metadata": {},
   "source": [
    "# 第7章: データベース\n",
    "\n",
    "artist.json.gzは，オープンな音楽データベースMusicBrainzの中で，アーティストに関するものをJSON形式に変換し，gzip形式で圧縮したファイルである．このファイルには，1アーティストに関する情報が1行にJSON形式で格納されている．jsonの形式は[100本ノックのページを参照](http://www.cl.ecei.tohoku.ac.jp/nlp100/#ch7)．\n",
    "\n",
    "artist.json.gzのデータをKey-Value-Store (KVS) およびドキュメント志向型データベースに格納・検索することを考える．KVSとしては，LevelDB，Redis，KyotoCabinet等を用いよ．ドキュメント志向型データベースとして，MongoDBを採用したが，CouchDBやRethinkDB等を用いてもよい．"
   ]
  },
  {
   "cell_type": "markdown",
   "metadata": {},
   "source": [
    "## 60. KVSの構築\n",
    "Key-Value-Store (KVS) を用い，アーティスト名（name）から活動場所（area）を検索するためのデータベースを構築せよ．"
   ]
  },
  {
   "cell_type": "code",
   "execution_count": null,
   "metadata": {
    "collapsed": false
   },
   "outputs": [],
   "source": [
    "import redis\n",
    "import gzip\n",
    "import json\n",
    "import codecs\n",
    "import types\n",
    "\n",
    "def generate_database():\n",
    "    with gzip.open('source/artist.json.gz', 'rb') as f:\n",
    "        line = f.readline()\n",
    "        i = 0\n",
    "        r = redis.StrictRedis()\n",
    "        while line:\n",
    "            i += 1\n",
    "            data = json.loads(line.decode('utf-8'))\n",
    "            line = f.readline()\n",
    "            if 'area' in data:\n",
    "                r.set(data['name'], data['area'])\n",
    "            else:\n",
    "                r.set(data['name'], 'No Information')\n",
    "            if 10 == i:\n",
    "                break\n",
    "\n",
    "# import json\n",
    "\n",
    "\n",
    "if __name__ == '__main__':\n",
    "    generate_database()\n",
    "\n",
    "    r = redis.StrictRedis()\n",
    "    print(r.config_get('databases'))\n",
    "    print(r.info('keyspace'))\n",
    "    print(r.keys())\n",
    "    print(r.flushall())\n"
   ]
  }
 ],
 "metadata": {
  "kernelspec": {
   "display_name": "Python 3",
   "language": "python",
   "name": "python3"
  },
  "language_info": {
   "codemirror_mode": {
    "name": "ipython",
    "version": 3
   },
   "file_extension": ".py",
   "mimetype": "text/x-python",
   "name": "python",
   "nbconvert_exporter": "python",
   "pygments_lexer": "ipython3",
   "version": "3.5.1"
  }
 },
 "nbformat": 4,
 "nbformat_minor": 0
}
